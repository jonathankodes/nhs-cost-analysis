{
 "cells": [
  {
   "cell_type": "code",
   "execution_count": 7,
   "id": "d28ceedf-8b09-42fb-85b1-d87124026792",
   "metadata": {},
   "outputs": [],
   "source": [
    "import glob\n",
    "\n",
    "import pandas as pd\n",
    "\n",
    "import re"
   ]
  },
  {
   "cell_type": "markdown",
   "id": "375f09af",
   "metadata": {
    "jp-MarkdownHeadingCollapsed": true,
    "pycharm": {
     "name": "#%% md\n"
    },
    "tags": []
   },
   "source": [
    "# Downloading Data"
   ]
  },
  {
   "cell_type": "code",
   "execution_count": null,
   "id": "96c8a36f",
   "metadata": {
    "collapsed": false,
    "jupyter": {
     "outputs_hidden": false
    },
    "pycharm": {
     "name": "#%%\n"
    }
   },
   "outputs": [],
   "source": [
    "import json\n",
    "from urllib.request import urlopen"
   ]
  },
  {
   "cell_type": "code",
   "execution_count": null,
   "id": "4b1707fb",
   "metadata": {
    "collapsed": false,
    "jupyter": {
     "outputs_hidden": false
    },
    "pycharm": {
     "name": "#%%\n"
    }
   },
   "outputs": [],
   "source": [
    "data = []\n",
    "offset = 0\n",
    "limit = 10000\n",
    "resource_id = \"PCA_202108\"\n",
    "total = 1\n",
    "\n",
    "\n",
    "while offset < total:\n",
    "    # Form the url using offset, limit, resource_id\n",
    "    url = f\"https://opendata.nhsbsa.net/api/3/action/datastore_search?resource_id={resource_id}&limit={limit}&offset={offset}\"\n",
    "    # Openning the url and reading the data\n",
    "    fileobj = urlopen(url)\n",
    "    data_json = fileobj.read()\n",
    "    # Parsing the data to convert from json to python dictionary\n",
    "    data_dict = json.loads(data_json)\n",
    "    # Appending the data from this url read to the \"data\" list\n",
    "    data += data_dict[\"result\"][\"records\"]\n",
    "\n",
    "    offset += limit\n",
    "\n",
    "    if total == 1:\n",
    "        total = data_dict[\"result\"][\"total\"]"
   ]
  },
  {
   "cell_type": "code",
   "execution_count": null,
   "id": "6b0b0b8a",
   "metadata": {
    "collapsed": false,
    "jupyter": {
     "outputs_hidden": false
    },
    "pycharm": {
     "name": "#%%\n"
    }
   },
   "outputs": [],
   "source": [
    "len(data)"
   ]
  },
  {
   "cell_type": "code",
   "execution_count": null,
   "id": "af54988c",
   "metadata": {
    "collapsed": false,
    "jupyter": {
     "outputs_hidden": false
    },
    "pycharm": {
     "name": "#%%\n"
    }
   },
   "outputs": [],
   "source": [
    "pd.DataFrame.from_records(data_dict[\"result\"][\"records\"])"
   ]
  },
  {
   "cell_type": "markdown",
   "id": "27f3e9fd-32f5-4be4-a641-08d7c42a2b08",
   "metadata": {},
   "source": [
    "# Processing Data"
   ]
  },
  {
   "cell_type": "markdown",
   "id": "409050ca",
   "metadata": {
    "pycharm": {
     "name": "#%% md\n"
    }
   },
   "source": [
    "## Monthly Filtered Data"
   ]
  },
  {
   "cell_type": "markdown",
   "id": "5e25c04e",
   "metadata": {
    "pycharm": {
     "name": "#%% md\n"
    }
   },
   "source": [
    "Idea: filter raw data with the file format `./data/raw_data/pca_YYYYMM.csv` and save into `./data/filtered_data/pca_YYYYMM.csv`"
   ]
  },
  {
   "cell_type": "code",
   "execution_count": 2,
   "id": "1b3432e6",
   "metadata": {
    "collapsed": false,
    "jupyter": {
     "outputs_hidden": false
    },
    "pycharm": {
     "name": "#%%\n"
    }
   },
   "outputs": [],
   "source": [
    "def filter_raw_data(raw_df):\n",
    "    return raw_df[[\"YEAR_MONTH\", \"BNF_PRESENTATION_CODE\"]]"
   ]
  },
  {
   "cell_type": "code",
   "execution_count": 18,
   "id": "a71da283-cfe9-4d1d-b58c-385ce3657a4f",
   "metadata": {},
   "outputs": [
    {
     "data": {
      "text/plain": [
       "['.', 'data', 'raw_data', 'pca_202107.csv']"
      ]
     },
     "execution_count": 18,
     "metadata": {},
     "output_type": "execute_result"
    }
   ],
   "source": [
    "re.split(\"/|\\\\\\\\\",raw_data_paths[0])"
   ]
  },
  {
   "cell_type": "code",
   "execution_count": 20,
   "id": "ab5890ae",
   "metadata": {
    "collapsed": false,
    "jupyter": {
     "outputs_hidden": false
    },
    "pycharm": {
     "name": "#%%\n"
    }
   },
   "outputs": [
    {
     "name": "stdout",
     "output_type": "stream",
     "text": [
      "Processing pca_202107.csv\n",
      "Processing pca_202108.csv\n"
     ]
    }
   ],
   "source": [
    "filtered_data_paths = glob.glob(\"./data/filtered_data/*.csv\")\n",
    "filtered_data_filenames = set(\n",
    "    [re.split(\"/|\\\\\\\\\",filtered_data_path)[-1] for filtered_data_path in filtered_data_paths]\n",
    ")\n",
    "\n",
    "raw_data_paths = glob.glob(\"./data/raw_data/*.csv\")\n",
    "\n",
    "for raw_data_path in raw_data_paths:\n",
    "    raw_data_filename =re.split(\"/|\\\\\\\\\",raw_data_path)[-1]\n",
    "    if raw_data_filename not in filtered_data_filenames:\n",
    "        print(f\"Processing {raw_data_filename}\")\n",
    "        raw_df = pd.read_csv(raw_data_path)\n",
    "        filtered_df = filter_raw_data(raw_df)\n",
    "        output_path = f\"./data/filtered_data/{raw_data_filename}\"\n",
    "        filtered_df.to_csv(output_path, index=False)"
   ]
  },
  {
   "cell_type": "markdown",
   "id": "580e1806",
   "metadata": {
    "pycharm": {
     "name": "#%% md\n"
    }
   },
   "source": [
    "## Product Info"
   ]
  },
  {
   "cell_type": "code",
   "execution_count": 26,
   "id": "e453d88c",
   "metadata": {
    "collapsed": false,
    "jupyter": {
     "outputs_hidden": false
    },
    "pycharm": {
     "name": "#%%\n"
    }
   },
   "outputs": [],
   "source": [
    "def process_product_data(monthly_raw_data):\n",
    "    # Selecting a subset of columns\n",
    "    filtered_df = monthly_raw_data[\n",
    "        [\n",
    "            \"BNF_PRESENTATION_CODE\",\n",
    "            \"BNF_PRESENTATION_NAME\",\n",
    "            \"SNOMED_CODE\",\n",
    "            \"GENERIC_BNF_EQUIVALENT_CODE\",\n",
    "            \"GENERIC_BNF_EQUIVALENT_NAME\",\n",
    "            \"BNF_CHEMICAL_SUBSTANCE_CODE\",\n",
    "            \"BNF_CHEMICAL_SUBSTANCE\",\n",
    "            \"BNF_PARAGRAPH_CODE\",\n",
    "            \"BNF_PARAGRAPH\",\n",
    "            \"BNF_SECTION_CODE\",\n",
    "            \"BNF_SECTION\",\n",
    "            \"BNF_CHAPTER_CODE\",\n",
    "            \"BNF_CHAPTER\",\n",
    "            \"PREP_CLASS\",\n",
    "            \"PRESCRIBED_PREP_CLASS\",\n",
    "        ]\n",
    "    ]\n",
    "\n",
    "    # Drop duplicates by BNF_PRESENTATION_CODE\n",
    "    monthly_product_info_df = filtered_df.drop_duplicates(\n",
    "        subset=[\"BNF_PRESENTATION_CODE\"]\n",
    "    )\n",
    "    return monthly_product_info_df"
   ]
  },
  {
   "cell_type": "code",
   "execution_count": 22,
   "id": "3b84e04b-d013-49f0-837b-5ca5ebd499da",
   "metadata": {},
   "outputs": [],
   "source": [
    "product_info_paths = glob.glob(\"./data/product_info/*.csv\")\n",
    "product_info_filenames = set(\n",
    "    [re.split(\"/|\\\\\\\\\", product_info_path)[-1] for product_info_path in product_info_paths]\n",
    ")\n",
    "\n",
    "raw_data_paths = glob.glob(\"./data/raw_data/*.csv\")"
   ]
  },
  {
   "cell_type": "code",
   "execution_count": 28,
   "id": "9e15174a-7e03-47cf-8443-3c65024177a7",
   "metadata": {},
   "outputs": [
    {
     "name": "stdout",
     "output_type": "stream",
     "text": [
      "Processing pca_202107.csv\n",
      "Processing pca_202108.csv\n"
     ]
    }
   ],
   "source": [
    "for raw_data_path in raw_data_paths:\n",
    "    raw_data_filename = re.split(\"/|\\\\\\\\\", raw_data_path)[-1]\n",
    "    if raw_data_filename not in product_info_filenames:\n",
    "        print(f\"Processing {raw_data_filename}\")\n",
    "        monthly_raw_df = pd.read_csv(raw_data_path)\n",
    "        monthly_product_info_df = process_product_data(monthly_raw_df)\n",
    "        output_path = f\"./data/product_info/{raw_data_filename}\"\n",
    "        monthly_product_info_df.to_csv(output_path, index=False)"
   ]
  },
  {
   "cell_type": "code",
   "execution_count": 29,
   "id": "5f10ed6b",
   "metadata": {
    "collapsed": false,
    "jupyter": {
     "outputs_hidden": false
    },
    "pycharm": {
     "name": "#%%\n"
    }
   },
   "outputs": [],
   "source": [
    "# Merge all monthly product info dataframes\n",
    "product_info_paths = glob.glob(\"./data/product_info/*.csv\")\n",
    "\n",
    "all_product_info_df = pd.concat(\n",
    "    [pd.read_csv(product_info_path) for product_info_path in product_info_paths]\n",
    ")\n",
    "all_product_info_df = all_product_info_df.drop_duplicates(\n",
    "    subset=[\"BNF_PRESENTATION_CODE\"]\n",
    ")\n",
    "\n",
    "all_product_info_df.to_csv(\"./data/product_info_concatenated.csv\", index=False)"
   ]
  },
  {
   "cell_type": "code",
   "execution_count": 30,
   "id": "53020d52",
   "metadata": {
    "collapsed": false,
    "jupyter": {
     "outputs_hidden": false
    },
    "pycharm": {
     "name": "#%%\n"
    }
   },
   "outputs": [
    {
     "data": {
      "text/html": [
       "<div>\n",
       "<style scoped>\n",
       "    .dataframe tbody tr th:only-of-type {\n",
       "        vertical-align: middle;\n",
       "    }\n",
       "\n",
       "    .dataframe tbody tr th {\n",
       "        vertical-align: top;\n",
       "    }\n",
       "\n",
       "    .dataframe thead th {\n",
       "        text-align: right;\n",
       "    }\n",
       "</style>\n",
       "<table border=\"1\" class=\"dataframe\">\n",
       "  <thead>\n",
       "    <tr style=\"text-align: right;\">\n",
       "      <th></th>\n",
       "      <th>BNF_PRESENTATION_CODE</th>\n",
       "      <th>BNF_PRESENTATION_NAME</th>\n",
       "      <th>SNOMED_CODE</th>\n",
       "      <th>GENERIC_BNF_EQUIVALENT_CODE</th>\n",
       "      <th>GENERIC_BNF_EQUIVALENT_NAME</th>\n",
       "      <th>BNF_CHEMICAL_SUBSTANCE_CODE</th>\n",
       "      <th>BNF_CHEMICAL_SUBSTANCE</th>\n",
       "      <th>BNF_PARAGRAPH_CODE</th>\n",
       "      <th>BNF_PARAGRAPH</th>\n",
       "      <th>BNF_SECTION_CODE</th>\n",
       "      <th>BNF_SECTION</th>\n",
       "      <th>BNF_CHAPTER_CODE</th>\n",
       "      <th>BNF_CHAPTER</th>\n",
       "      <th>PREP_CLASS</th>\n",
       "      <th>PRESCRIBED_PREP_CLASS</th>\n",
       "    </tr>\n",
       "  </thead>\n",
       "  <tbody>\n",
       "    <tr>\n",
       "      <th>0</th>\n",
       "      <td>190700000BBCRA0</td>\n",
       "      <td>Thick &amp; Easy Clear powder</td>\n",
       "      <td>2.909391e+16</td>\n",
       "      <td>190700000BBCRA0</td>\n",
       "      <td>Thick &amp; Easy Clear powder</td>\n",
       "      <td>190700000</td>\n",
       "      <td>Other base/diluent/suspending agent/stabiliser...</td>\n",
       "      <td>190700</td>\n",
       "      <td>Base,diluent, suspending agents and stabilisers</td>\n",
       "      <td>1907</td>\n",
       "      <td>Base,diluent, suspending agents and stabilisers</td>\n",
       "      <td>19</td>\n",
       "      <td>Other Drugs and Preparations</td>\n",
       "      <td>3</td>\n",
       "      <td>3</td>\n",
       "    </tr>\n",
       "    <tr>\n",
       "      <th>1</th>\n",
       "      <td>0409010K0BBANAF</td>\n",
       "      <td>Madopar CR capsules</td>\n",
       "      <td>2.791100e+13</td>\n",
       "      <td>0409010K0AAAFAF</td>\n",
       "      <td>Co-beneldopa 25mg/100mg modified-release capsules</td>\n",
       "      <td>0409010K0</td>\n",
       "      <td>Co-beneldopa (Benserazide/levodopa)</td>\n",
       "      <td>40901</td>\n",
       "      <td>Dopaminergic drugs used in parkinsonism</td>\n",
       "      <td>409</td>\n",
       "      <td>Drugs used in parkinsonism and related disorders</td>\n",
       "      <td>4</td>\n",
       "      <td>Central Nervous System</td>\n",
       "      <td>3</td>\n",
       "      <td>3</td>\n",
       "    </tr>\n",
       "    <tr>\n",
       "      <th>2</th>\n",
       "      <td>23803048001</td>\n",
       "      <td>Medihoney barrier cream sachets</td>\n",
       "      <td>1.977871e+16</td>\n",
       "      <td>23803048001</td>\n",
       "      <td>Medihoney barrier cream sachets</td>\n",
       "      <td>2380</td>\n",
       "      <td>Skin Fillers And Protectives</td>\n",
       "      <td>2380</td>\n",
       "      <td>Skin Fillers And Protectives</td>\n",
       "      <td>2380</td>\n",
       "      <td>Skin Fillers And Protectives</td>\n",
       "      <td>23</td>\n",
       "      <td>Stoma Appliances</td>\n",
       "      <td>4</td>\n",
       "      <td>4</td>\n",
       "    </tr>\n",
       "    <tr>\n",
       "      <th>3</th>\n",
       "      <td>0105010B0BCAFAT</td>\n",
       "      <td>Pentasa 2g modified-release granules sachets</td>\n",
       "      <td>1.370111e+16</td>\n",
       "      <td>0105010B0AAATAT</td>\n",
       "      <td>Mesalazine 2g modified-release granules sachet...</td>\n",
       "      <td>0105010B0</td>\n",
       "      <td>Mesalazine (Systemic)</td>\n",
       "      <td>10501</td>\n",
       "      <td>Aminosalicylates</td>\n",
       "      <td>105</td>\n",
       "      <td>Chronic bowel disorders</td>\n",
       "      <td>1</td>\n",
       "      <td>Gastro-Intestinal System</td>\n",
       "      <td>3</td>\n",
       "      <td>2</td>\n",
       "    </tr>\n",
       "    <tr>\n",
       "      <th>4</th>\n",
       "      <td>090402000BBNZA0</td>\n",
       "      <td>Aptamil Pepti 1 powder</td>\n",
       "      <td>9.325111e+15</td>\n",
       "      <td>090402000BBNZA0</td>\n",
       "      <td>Aptamil Pepti 1 powder</td>\n",
       "      <td>090402000</td>\n",
       "      <td>Enteral nutrition</td>\n",
       "      <td>90402</td>\n",
       "      <td>Enteral nutrition</td>\n",
       "      <td>904</td>\n",
       "      <td>Oral nutrition</td>\n",
       "      <td>9</td>\n",
       "      <td>Nutrition and Blood</td>\n",
       "      <td>3</td>\n",
       "      <td>3</td>\n",
       "    </tr>\n",
       "  </tbody>\n",
       "</table>\n",
       "</div>"
      ],
      "text/plain": [
       "  BNF_PRESENTATION_CODE                         BNF_PRESENTATION_NAME  \\\n",
       "0       190700000BBCRA0                     Thick & Easy Clear powder   \n",
       "1       0409010K0BBANAF                           Madopar CR capsules   \n",
       "2           23803048001               Medihoney barrier cream sachets   \n",
       "3       0105010B0BCAFAT  Pentasa 2g modified-release granules sachets   \n",
       "4       090402000BBNZA0                        Aptamil Pepti 1 powder   \n",
       "\n",
       "    SNOMED_CODE GENERIC_BNF_EQUIVALENT_CODE  \\\n",
       "0  2.909391e+16             190700000BBCRA0   \n",
       "1  2.791100e+13             0409010K0AAAFAF   \n",
       "2  1.977871e+16                 23803048001   \n",
       "3  1.370111e+16             0105010B0AAATAT   \n",
       "4  9.325111e+15             090402000BBNZA0   \n",
       "\n",
       "                         GENERIC_BNF_EQUIVALENT_NAME  \\\n",
       "0                          Thick & Easy Clear powder   \n",
       "1  Co-beneldopa 25mg/100mg modified-release capsules   \n",
       "2                    Medihoney barrier cream sachets   \n",
       "3  Mesalazine 2g modified-release granules sachet...   \n",
       "4                             Aptamil Pepti 1 powder   \n",
       "\n",
       "  BNF_CHEMICAL_SUBSTANCE_CODE  \\\n",
       "0                   190700000   \n",
       "1                   0409010K0   \n",
       "2                        2380   \n",
       "3                   0105010B0   \n",
       "4                   090402000   \n",
       "\n",
       "                              BNF_CHEMICAL_SUBSTANCE  BNF_PARAGRAPH_CODE  \\\n",
       "0  Other base/diluent/suspending agent/stabiliser...              190700   \n",
       "1                Co-beneldopa (Benserazide/levodopa)               40901   \n",
       "2                       Skin Fillers And Protectives                2380   \n",
       "3                              Mesalazine (Systemic)               10501   \n",
       "4                                  Enteral nutrition               90402   \n",
       "\n",
       "                                     BNF_PARAGRAPH  BNF_SECTION_CODE  \\\n",
       "0  Base,diluent, suspending agents and stabilisers              1907   \n",
       "1          Dopaminergic drugs used in parkinsonism               409   \n",
       "2                     Skin Fillers And Protectives              2380   \n",
       "3                                 Aminosalicylates               105   \n",
       "4                                Enteral nutrition               904   \n",
       "\n",
       "                                        BNF_SECTION  BNF_CHAPTER_CODE  \\\n",
       "0   Base,diluent, suspending agents and stabilisers                19   \n",
       "1  Drugs used in parkinsonism and related disorders                 4   \n",
       "2                      Skin Fillers And Protectives                23   \n",
       "3                           Chronic bowel disorders                 1   \n",
       "4                                    Oral nutrition                 9   \n",
       "\n",
       "                    BNF_CHAPTER  PREP_CLASS  PRESCRIBED_PREP_CLASS  \n",
       "0  Other Drugs and Preparations           3                      3  \n",
       "1        Central Nervous System           3                      3  \n",
       "2              Stoma Appliances           4                      4  \n",
       "3      Gastro-Intestinal System           3                      2  \n",
       "4           Nutrition and Blood           3                      3  "
      ]
     },
     "execution_count": 30,
     "metadata": {},
     "output_type": "execute_result"
    }
   ],
   "source": [
    "all_product_info_df.head()"
   ]
  },
  {
   "cell_type": "markdown",
   "id": "fd99b4a1",
   "metadata": {
    "pycharm": {
     "name": "#%% md\n"
    }
   },
   "source": [
    "One problem with this approach is that it gets slower every month as the raw data increases\n",
    "    => Change the algorithm such that if there exists an existing product_info.csv, simply use that and the latest monthly raw_data to get the updated product_info.csv"
   ]
  },
  {
   "cell_type": "markdown",
   "id": "2db8354b",
   "metadata": {
    "pycharm": {
     "name": "#%% md\n"
    }
   },
   "source": []
  }
 ],
 "metadata": {
  "kernelspec": {
   "display_name": "Python 3 (ipykernel)",
   "language": "python",
   "name": "python3"
  },
  "language_info": {
   "codemirror_mode": {
    "name": "ipython",
    "version": 3
   },
   "file_extension": ".py",
   "mimetype": "text/x-python",
   "name": "python",
   "nbconvert_exporter": "python",
   "pygments_lexer": "ipython3",
   "version": "3.10.0"
  }
 },
 "nbformat": 4,
 "nbformat_minor": 5
}
